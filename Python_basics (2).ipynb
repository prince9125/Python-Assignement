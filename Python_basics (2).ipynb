{
  "nbformat": 4,
  "nbformat_minor": 0,
  "metadata": {
    "colab": {
      "provenance": []
    },
    "kernelspec": {
      "name": "python3",
      "display_name": "Python 3"
    },
    "language_info": {
      "name": "python"
    }
  },
  "cells": [
    {
      "cell_type": "code",
      "source": [
        "print(\"Hello World\")"
      ],
      "metadata": {
        "colab": {
          "base_uri": "https://localhost:8080/"
        },
        "id": "Wnm_HdcEhufn",
        "outputId": "48c240e2-b562-4aff-ab2d-b977d4a43ac3"
      },
      "execution_count": 2,
      "outputs": [
        {
          "output_type": "stream",
          "name": "stdout",
          "text": [
            "Hello World\n"
          ]
        }
      ]
    },
    {
      "cell_type": "markdown",
      "source": [
        "1. Explain the key Features of Python that make it a popular choice for programming?\n",
        "\n",
        "Introduction to Python\n",
        ". Python is a Programming language that is easy to understand and write, making it a popular choice among developers and programmers.\n",
        ". It is Compatible with various programming paradigms, such as procedural, object-oriented, and functional programming.\n",
        ". Python has a large and active community of developers, an extensive standard library, and third-party packages for various domains.\n",
        "\n",
        "2. Describe the role of predefined keywords in python and provide example of how they are used in a program?\n",
        "\n",
        "Predefined keywords\n",
        "\n",
        "Keywords are reserved words in Python that have special meanings and cannot be used as identifiers (variable names, function names, etc.).\n",
        "\n",
        "Examples of keywords include if, else, while, for, def, class, import, try, except, return. True, False, None, etc.\n",
        "\n",
        "Keywords are case-sensitive and cannot be redefined or overridden within a Python program.\n",
        "\n",
        "Example-\n",
        "\n",
        "Predefined functions in Python. print(), round(), abs(), pow(), int(), float(), etc\n",
        "\n",
        "3. Compare and contrast mutable and immutable object in python with example?\n",
        "\n",
        "Mutability & Immutability.\n",
        "\n",
        "In Python, objects can be either changeable (modifiable) or unchangeable (unchangeable).\n",
        "\n",
        "Mutable objects, such as lists and dictionaries, can be modified after creation, while immutable objects, such as tuples and strings, cannot.\n",
        "\n",
        "Mutability affects how objects are stored and manipulated in memory, impacting performance, memory usage, and concurrency in Python programs.\n",
        "\n",
        "Example of Mutable Object-\n",
        "Include lists, sets, and dictionaries.\n",
        "\n",
        "Example of Immutable Object-\n",
        "Include integers, floats, strings, and tuples.\n",
        "\n",
        "4. Discuss the different types of operators in Python and provide examples of how they are used?\n",
        "\n",
        "Operators\n",
        "\n",
        "Operators are special symbols or keywords that are used to carry out specific actions on numbers or variables in Python expressions.\n",
        "\n",
        "Python supports various types of operators, including arithmetic operators (...), comparison operators (=, =, <, >), logical operators (and, or, not), assignment operators (, +,-,*,/), etc.\n",
        "\n",
        "Operators have precedence and associativity rules that determine the order of evaluation in expressions.\n",
        "\n",
        "Example-\n",
        "\n",
        "In mathematics and computer programming, an operator is a character that represents a specific mathematical or logical action or process. For instance, \"x\" is an arithmetic operator that indicates multiplication, while \"&&\" is a logical operator representing the logical AND function in programming.\n",
        "\n",
        "5. Explain the concept of type casting in Python with examples?\n",
        "\n",
        "Type Casting\n",
        "\n",
        "Type casting, also referred to as type conversion, is the process of changing one data type to another in Python.\n",
        "\n",
        "Python provides built-in functions for type casting, such as int(), float(), str(), list(), tuple(), dict(), etc.\n",
        "\n",
        "Type casting is often necessary for performing arithmetic operations, data manipulation, and input/output operations in Python programs.\n",
        "\n",
        "Example-\n",
        "you want to change the data type of a variable from an integer ( 2 ) to a float ( 2.0 ). This is a case where you'd use type casting.\n",
        "\n",
        "6. How do conditional statements work in Python? Illustrate with examples?\n",
        "\n",
        "Conditionals\n",
        "\n",
        "Conditionals in Python are used to execute code based on the evaluation of one or more conditions.\n",
        "\n",
        "Conditionals can be nested to handle multiple conditions and control different branches of execution based on the outcome of logical\n",
        "\n",
        "expressions.\n",
        "\n",
        "Here's an example of how to use an if statement to check if a number is positive: num = 5 if num > 0: print(\"The number is positive.\")\n",
        "\n",
        "7. Describe the different types of loops in Python and their use cases with examples?\n",
        "\n",
        "In Python, loops are employed to repeat a sequence of actions or code until a specific condition is fulfilled.\n",
        "\n",
        "Python offers two primary types of loops: for loops and while loops. \"for\" loops are used for iterating over a sequence of elements, while \"while\" loops are used for executing code until a specified condition\n",
        "\n",
        "becomes False\n",
        "\n",
        "Example-\n",
        "\n",
        "count = 0 while (count < 10): print ('The count is:', count) count = count + 1 print (\"Good bye!\") A while loop is a control flow statement that allows you to repeatedly run a block of code as long as a given condition is true\n",
        "\n",
        "\n"
      ],
      "metadata": {
        "id": "i47-jHgkh9CC"
      }
    }
  ]
}