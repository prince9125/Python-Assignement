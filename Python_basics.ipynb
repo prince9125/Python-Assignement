{
  "nbformat": 4,
  "nbformat_minor": 0,
  "metadata": {
    "colab": {
      "provenance": []
    },
    "kernelspec": {
      "name": "python3",
      "display_name": "Python 3"
    },
    "language_info": {
      "name": "python"
    }
  },
  "cells": [
    {
      "cell_type": "code",
      "source": [
        "print(\"Hello World\")"
      ],
      "metadata": {
        "colab": {
          "base_uri": "https://localhost:8080/"
        },
        "id": "Wnm_HdcEhufn",
        "outputId": "48c240e2-b562-4aff-ab2d-b977d4a43ac3"
      },
      "execution_count": 2,
      "outputs": [
        {
          "output_type": "stream",
          "name": "stdout",
          "text": [
            "Hello World\n"
          ]
        }
      ]
    },
    {
      "cell_type": "markdown",
      "source": [
        "Explain the key Features of Python that make it a popular choice for programming?\n",
        "\n",
        "Introduction to Python\n",
        ". Python is a Programming language that is easy to understand and write, making it a popular choice among developers and programmers.\n",
        ". It is Compatible with various programming paradigms, such as procedural, object-oriented, and functional programming.\n",
        ". Python has a large and active community of developers, an extensive standard library, and third-party packages for various domains."
      ],
      "metadata": {
        "id": "i47-jHgkh9CC"
      }
    }
  ]
}